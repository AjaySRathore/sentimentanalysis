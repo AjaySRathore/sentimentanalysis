{
 "cells": [
  {
   "cell_type": "markdown",
   "metadata": {},
   "source": [
    "## Import modules and create spark session"
   ]
  },
  {
   "cell_type": "code",
   "execution_count": 20,
   "metadata": {},
   "outputs": [],
   "source": [
    "#import modules\n",
    "from pyspark import SparkConf, SparkContext\n",
    "from pyspark.sql import SparkSession\n",
    "from pyspark.sql.types import *\n",
    "from pyspark.sql.functions import *\n",
    "from pyspark.ml.classification import LogisticRegression\n",
    "from pyspark.ml.classification import NaiveBayes\n",
    "from pyspark.ml.feature import HashingTF, Tokenizer, StopWordsRemover\n",
    "\n",
    "#create Spark session\n",
    "appName = \"Sentiment Analysis in Spark\"\n",
    "conf = (SparkConf().setAppName(\"appName\"))\n",
    "\n",
    "sc = SparkContext.getOrCreate()\n",
    "spark = SparkSession \\\n",
    "    .builder \\\n",
    "    .appName(appName) \\\n",
    "    .config(\"spark.some.config.option\", \"some-value\") \\\n",
    "    .getOrCreate()"
   ]
  },
  {
   "cell_type": "markdown",
   "metadata": {},
   "source": [
    "## Read data file into Spark dataFrame"
   ]
  },
  {
   "cell_type": "code",
   "execution_count": 6,
   "metadata": {
    "scrolled": true
   },
   "outputs": [
    {
     "name": "stdout",
     "output_type": "stream",
     "text": [
      "+------+----------+----------------------------+--------+---------------+-------------------------------------------------------------------------------------------------------------------+\n",
      "|Target|ID        |Date                        |Query   |User           |Text                                                                                                               |\n",
      "+------+----------+----------------------------+--------+---------------+-------------------------------------------------------------------------------------------------------------------+\n",
      "|0     |1467810369|Mon Apr 06 22:19:45 PDT 2009|NO_QUERY|_TheSpecialOne_|@switchfoot http://twitpic.com/2y1zl - Awww, that's a bummer.  You shoulda got David Carr of Third Day to do it. ;D|\n",
      "|0     |1467810672|Mon Apr 06 22:19:49 PDT 2009|NO_QUERY|scotthamilton  |is upset that he can't update his Facebook by texting it... and might cry as a result  School today also. Blah!    |\n",
      "|0     |1467810917|Mon Apr 06 22:19:53 PDT 2009|NO_QUERY|mattycus       |@Kenichan I dived many times for the ball. Managed to save 50%  The rest go out of bounds                          |\n",
      "+------+----------+----------------------------+--------+---------------+-------------------------------------------------------------------------------------------------------------------+\n",
      "only showing top 3 rows\n",
      "\n"
     ]
    }
   ],
   "source": [
    "#read csv file into dataFrame with automatically inferred schema\n",
    "schema = StructType([\n",
    "    StructField(\"Target\", IntegerType(), True),\n",
    "    StructField(\"ID\", IntegerType(), True),\n",
    "    StructField(\"Date\", StringType(), True),\n",
    "    StructField(\"Query\", StringType(), True),\n",
    "    StructField(\"User\", StringType(), True),\n",
    "    StructField(\"Text\", StringType(), True)])\n",
    "\n",
    "tweets_csv = spark.read.csv('dataset/tweets.csv', schema=schema, header=False)\n",
    "tweets_csv.show(truncate=False, n=3)"
   ]
  },
  {
   "cell_type": "markdown",
   "metadata": {},
   "source": [
    "## Select the related data"
   ]
  },
  {
   "cell_type": "code",
   "execution_count": 7,
   "metadata": {},
   "outputs": [
    {
     "name": "stdout",
     "output_type": "stream",
     "text": [
      "+-------------------------------------------------------------------------------------------------------------------+-----+\n",
      "|Text                                                                                                               |label|\n",
      "+-------------------------------------------------------------------------------------------------------------------+-----+\n",
      "|@switchfoot http://twitpic.com/2y1zl - Awww, that's a bummer.  You shoulda got David Carr of Third Day to do it. ;D|0    |\n",
      "|is upset that he can't update his Facebook by texting it... and might cry as a result  School today also. Blah!    |0    |\n",
      "|@Kenichan I dived many times for the ball. Managed to save 50%  The rest go out of bounds                          |0    |\n",
      "|my whole body feels itchy and like its on fire                                                                     |0    |\n",
      "|@nationwideclass no, it's not behaving at all. i'm mad. why am i here? because I can't see you all over there.     |0    |\n",
      "+-------------------------------------------------------------------------------------------------------------------+-----+\n",
      "only showing top 5 rows\n",
      "\n"
     ]
    }
   ],
   "source": [
    "#select only \"SentimentText\" and \"Sentiment\" column, \n",
    "#and cast \"Sentiment\" column data into integer\n",
    "data = tweets_csv.select(\"Text\", col(\"Target\").alias(\"label\"))\n",
    "data.show(truncate = False,n=5)"
   ]
  },
  {
   "cell_type": "markdown",
   "metadata": {},
   "source": [
    "## Trim White Space "
   ]
  },
  {
   "cell_type": "code",
   "execution_count": 8,
   "metadata": {},
   "outputs": [
    {
     "name": "stdout",
     "output_type": "stream",
     "text": [
      "+-------------------------------------------------------------------------------------------------------------------+-----+\n",
      "|Text                                                                                                               |label|\n",
      "+-------------------------------------------------------------------------------------------------------------------+-----+\n",
      "|@switchfoot http://twitpic.com/2y1zl - Awww, that's a bummer.  You shoulda got David Carr of Third Day to do it. ;D|0    |\n",
      "|is upset that he can't update his Facebook by texting it... and might cry as a result  School today also. Blah!    |0    |\n",
      "|@Kenichan I dived many times for the ball. Managed to save 50%  The rest go out of bounds                          |0    |\n",
      "|my whole body feels itchy and like its on fire                                                                     |0    |\n",
      "|@nationwideclass no, it's not behaving at all. i'm mad. why am i here? because I can't see you all over there.     |0    |\n",
      "+-------------------------------------------------------------------------------------------------------------------+-----+\n",
      "only showing top 5 rows\n",
      "\n"
     ]
    }
   ],
   "source": [
    "from pyspark.sql.functions import trim\n",
    "data = data.withColumn(\"Text\", trim(data.Text))\n",
    "data.show(truncate=False, n=5)"
   ]
  },
  {
   "cell_type": "markdown",
   "metadata": {},
   "source": [
    "## Divide data into training and testing data"
   ]
  },
  {
   "cell_type": "code",
   "execution_count": 9,
   "metadata": {},
   "outputs": [
    {
     "name": "stderr",
     "output_type": "stream",
     "text": [
      "[Stage 6:===================================================>       (7 + 1) / 8]\r"
     ]
    },
    {
     "name": "stdout",
     "output_type": "stream",
     "text": [
      "Training data rows: 1120055 ; Testing data rows: 479945\n"
     ]
    },
    {
     "name": "stderr",
     "output_type": "stream",
     "text": [
      "                                                                                \r"
     ]
    }
   ],
   "source": [
    "#divide data, 70% for training, 30% for testing\n",
    "dividedData = data.randomSplit([0.7, 0.3]) \n",
    "trainingData = dividedData[0] #index 0 = data training\n",
    "testingData = dividedData[1] #index 1 = data testing\n",
    "train_rows = trainingData.count()\n",
    "test_rows = testingData.count()\n",
    "print (\"Training data rows:\", train_rows, \"; Testing data rows:\", test_rows)"
   ]
  },
  {
   "cell_type": "markdown",
   "metadata": {},
   "source": [
    "## Prepare training data"
   ]
  },
  {
   "cell_type": "markdown",
   "metadata": {},
   "source": [
    "Separate \"SentimentText\" into individual words using tokenizer"
   ]
  },
  {
   "cell_type": "code",
   "execution_count": 10,
   "metadata": {
    "scrolled": true
   },
   "outputs": [
    {
     "name": "stderr",
     "output_type": "stream",
     "text": [
      "[Stage 9:>                                                          (0 + 1) / 1]\r"
     ]
    },
    {
     "name": "stdout",
     "output_type": "stream",
     "text": [
      "+--------------------------------------------------------------------------------------------------------------------------------------------------+-----+----------------------------------------------------------------------------------------------------------------------------------------------------------------------------+\n",
      "|Text                                                                                                                                              |label|SentimentWords                                                                                                                                                              |\n",
      "+--------------------------------------------------------------------------------------------------------------------------------------------------+-----+----------------------------------------------------------------------------------------------------------------------------------------------------------------------------+\n",
      "|!!!!!!!!!! OMG!!!!!!! I lost all of my photage and stuff for the new video that was coming out monday... sorry guys looks like no new vid         |0    |[!!!!!!!!!!, omg!!!!!!!, i, lost, all, of, my, photage, and, stuff, for, the, new, video, that, was, coming, out, monday..., sorry, guys, looks, like, no, new, vid]        |\n",
      "|!@KaroleWrites I wish I could imagine myself that way. Sadly I was raised in public schools + TV when home. NOT BY MY PARENTS &quot;teaching&quot;|0    |[!@karolewrites, i, wish, i, could, imagine, myself, that, way., sadly, i, was, raised, in, public, schools, +, tv, when, home., not, by, my, parents, &quot;teaching&quot;]|\n",
      "|!@PDXsays  #racialprofiling was my thought too.                                                                                                   |0    |[!@pdxsays, , #racialprofiling, was, my, thought, too.]                                                                                                                     |\n",
      "|# @Catherine42 I wouldn't mind but I only had 1/2 a portion &amp; then left 1/2 the cream  just fruit for me then until my hols  x                |0    |[#, @catherine42, i, wouldn't, mind, but, i, only, had, 1/2, a, portion, &amp;, then, left, 1/2, the, cream, , just, fruit, for, me, then, until, my, hols, , x]            |\n",
      "|# Leno @J_Sizzle25 *Sigh* Leno had his last show last night. How sad to see him go.  Conan will be great though, he's awesome as well.            |0    |[#, leno, @j_sizzle25, *sigh*, leno, had, his, last, show, last, night., how, sad, to, see, him, go., , conan, will, be, great, though,, he's, awesome, as, well.]          |\n",
      "+--------------------------------------------------------------------------------------------------------------------------------------------------+-----+----------------------------------------------------------------------------------------------------------------------------------------------------------------------------+\n",
      "only showing top 5 rows\n",
      "\n"
     ]
    },
    {
     "name": "stderr",
     "output_type": "stream",
     "text": [
      "                                                                                \r"
     ]
    }
   ],
   "source": [
    "tokenizer = Tokenizer(inputCol=\"Text\", outputCol=\"SentimentWords\")\n",
    "tokenizedTrain = tokenizer.transform(trainingData)\n",
    "tokenizedTrain.show(truncate=False, n=5)"
   ]
  },
  {
   "cell_type": "markdown",
   "metadata": {},
   "source": [
    "Removing stop words (unimportant words to be features)"
   ]
  },
  {
   "cell_type": "code",
   "execution_count": 11,
   "metadata": {
    "scrolled": true
   },
   "outputs": [
    {
     "name": "stderr",
     "output_type": "stream",
     "text": [
      "[Stage 10:>                                                         (0 + 1) / 1]\r"
     ]
    },
    {
     "name": "stdout",
     "output_type": "stream",
     "text": [
      "+--------------------------------------------------------------------------------------------------------------------------------------------------+-----+----------------------------------------------------------------------------------------------------------------------------------------------------------------------------+----------------------------------------------------------------------------------------------------------------------+\n",
      "|Text                                                                                                                                              |label|SentimentWords                                                                                                                                                              |MeaningfulWords                                                                                                       |\n",
      "+--------------------------------------------------------------------------------------------------------------------------------------------------+-----+----------------------------------------------------------------------------------------------------------------------------------------------------------------------------+----------------------------------------------------------------------------------------------------------------------+\n",
      "|!!!!!!!!!! OMG!!!!!!! I lost all of my photage and stuff for the new video that was coming out monday... sorry guys looks like no new vid         |0    |[!!!!!!!!!!, omg!!!!!!!, i, lost, all, of, my, photage, and, stuff, for, the, new, video, that, was, coming, out, monday..., sorry, guys, looks, like, no, new, vid]        |[!!!!!!!!!!, omg!!!!!!!, lost, photage, stuff, new, video, coming, monday..., sorry, guys, looks, like, new, vid]     |\n",
      "|!@KaroleWrites I wish I could imagine myself that way. Sadly I was raised in public schools + TV when home. NOT BY MY PARENTS &quot;teaching&quot;|0    |[!@karolewrites, i, wish, i, could, imagine, myself, that, way., sadly, i, was, raised, in, public, schools, +, tv, when, home., not, by, my, parents, &quot;teaching&quot;]|[!@karolewrites, wish, imagine, way., sadly, raised, public, schools, +, tv, home., parents, &quot;teaching&quot;]    |\n",
      "|!@PDXsays  #racialprofiling was my thought too.                                                                                                   |0    |[!@pdxsays, , #racialprofiling, was, my, thought, too.]                                                                                                                     |[!@pdxsays, , #racialprofiling, thought, too.]                                                                        |\n",
      "|# @Catherine42 I wouldn't mind but I only had 1/2 a portion &amp; then left 1/2 the cream  just fruit for me then until my hols  x                |0    |[#, @catherine42, i, wouldn't, mind, but, i, only, had, 1/2, a, portion, &amp;, then, left, 1/2, the, cream, , just, fruit, for, me, then, until, my, hols, , x]            |[#, @catherine42, mind, 1/2, portion, &amp;, left, 1/2, cream, , fruit, hols, , x]                                    |\n",
      "|# Leno @J_Sizzle25 *Sigh* Leno had his last show last night. How sad to see him go.  Conan will be great though, he's awesome as well.            |0    |[#, leno, @j_sizzle25, *sigh*, leno, had, his, last, show, last, night., how, sad, to, see, him, go., , conan, will, be, great, though,, he's, awesome, as, well.]          |[#, leno, @j_sizzle25, *sigh*, leno, last, show, last, night., sad, see, go., , conan, great, though,, awesome, well.]|\n",
      "+--------------------------------------------------------------------------------------------------------------------------------------------------+-----+----------------------------------------------------------------------------------------------------------------------------------------------------------------------------+----------------------------------------------------------------------------------------------------------------------+\n",
      "only showing top 5 rows\n",
      "\n"
     ]
    },
    {
     "name": "stderr",
     "output_type": "stream",
     "text": [
      "                                                                                \r"
     ]
    }
   ],
   "source": [
    "swr = StopWordsRemover(inputCol=tokenizer.getOutputCol(), \n",
    "                       outputCol=\"MeaningfulWords\")\n",
    "SwRemovedTrain = swr.transform(tokenizedTrain)\n",
    "SwRemovedTrain.show(truncate=False, n=5)"
   ]
  },
  {
   "cell_type": "markdown",
   "metadata": {},
   "source": [
    "Converting words feature into numerical feature. In Spark 2.2.1,it is implemented in HashingTF funtion using Austin Appleby's MurmurHash 3 algorithm"
   ]
  },
  {
   "cell_type": "code",
   "execution_count": 12,
   "metadata": {},
   "outputs": [
    {
     "name": "stdout",
     "output_type": "stream",
     "text": [
      "+-----+------------------------------------------------------------------------------------------------------------------+----------------------------------------------------------------------------------------------------------------------------------------------------------------+\n",
      "|label|MeaningfulWords                                                                                                   |features                                                                                                                                                        |\n",
      "+-----+------------------------------------------------------------------------------------------------------------------+----------------------------------------------------------------------------------------------------------------------------------------------------------------+\n",
      "|0    |[!!!!!!!!!!, omg!!!!!!!, lost, photage, stuff, new, video, coming, monday..., sorry, guys, looks, like, new, vid] |(262144,[12409,19153,70864,81210,81726,89833,101376,112733,124877,144961,154594,208258,251520,252187],[1.0,1.0,1.0,1.0,1.0,2.0,1.0,1.0,1.0,1.0,1.0,1.0,1.0,1.0])|\n",
      "|0    |[!@karolewrites, wish, imagine, way., sadly, raised, public, schools, +, tv, home., parents, &quot;teaching&quot;]|(262144,[10201,15775,20719,22373,27139,80722,128342,136951,141300,143845,174506,230614,255779],[1.0,1.0,1.0,1.0,1.0,1.0,1.0,1.0,1.0,1.0,1.0,1.0,1.0])           |\n",
      "|0    |[!@pdxsays, , #racialprofiling, thought, too.]                                                                    |(262144,[53777,142343,172144,234710,249180],[1.0,1.0,1.0,1.0,1.0])                                                                                              |\n",
      "+-----+------------------------------------------------------------------------------------------------------------------+----------------------------------------------------------------------------------------------------------------------------------------------------------------+\n",
      "only showing top 3 rows\n",
      "\n"
     ]
    },
    {
     "name": "stderr",
     "output_type": "stream",
     "text": [
      "                                                                                \r"
     ]
    }
   ],
   "source": [
    "hashTF = HashingTF(inputCol=swr.getOutputCol(), outputCol=\"features\")\n",
    "numericTrainData = hashTF.transform(SwRemovedTrain).select(\n",
    "    'label', 'MeaningfulWords', 'features')\n",
    "numericTrainData.show(truncate=False, n=3)"
   ]
  },
  {
   "cell_type": "markdown",
   "metadata": {},
   "source": [
    "## Train our classifier model using training data"
   ]
  },
  {
   "cell_type": "code",
   "execution_count": 21,
   "metadata": {},
   "outputs": [
    {
     "name": "stderr",
     "output_type": "stream",
     "text": [
      "[Stage 38:==================================================>       (7 + 1) / 8]\r"
     ]
    },
    {
     "name": "stdout",
     "output_type": "stream",
     "text": [
      "Training is done!\n"
     ]
    },
    {
     "name": "stderr",
     "output_type": "stream",
     "text": [
      "                                                                                \r"
     ]
    }
   ],
   "source": [
    "nb = NaiveBayes(smoothing=1)\n",
    "model = nb.fit(numericTrainData)\n",
    "print (\"Training is done!\")"
   ]
  },
  {
   "cell_type": "markdown",
   "metadata": {},
   "source": [
    "## Save the Model"
   ]
  },
  {
   "cell_type": "code",
   "execution_count": 23,
   "metadata": {},
   "outputs": [
    {
     "name": "stdout",
     "output_type": "stream",
     "text": [
      "23/01/18 13:43:17 WARN TaskSetManager: Stage 42 contains a task of very large size (4185 KiB). The maximum recommended task size is 1000 KiB.\n"
     ]
    },
    {
     "name": "stderr",
     "output_type": "stream",
     "text": [
      "                                                                                \r"
     ]
    }
   ],
   "source": [
    "basePath = \"/home/mecha/Documents/ml_models/navies_bayes_sentiment_analyzer\"\n",
    "model.save(basePath + \"/modeliter10\")\n"
   ]
  },
  {
   "cell_type": "markdown",
   "metadata": {},
   "source": [
    "## Prepare testing data"
   ]
  },
  {
   "cell_type": "code",
   "execution_count": 24,
   "metadata": {
    "scrolled": false
   },
   "outputs": [
    {
     "name": "stdout",
     "output_type": "stream",
     "text": [
      "+-----+--------------------------------------------------------------+-------------------------------------------------------------------------------------------------+\n",
      "|Label|MeaningfulWords                                               |features                                                                                         |\n",
      "+-----+--------------------------------------------------------------+-------------------------------------------------------------------------------------------------+\n",
      "|0    |[!!, @jordaniscreativ, ...nice, seeing, out!, bad, get, chat!]|(262144,[22593,82593,93729,130329,145380,153094,244891,252722],[1.0,1.0,1.0,1.0,1.0,1.0,1.0,1.0])|\n",
      "|0    |[!!, de, creer, , , , , http://bit.ly/ln2da]                  |(262144,[43265,93729,162985,181897,249180],[1.0,1.0,1.0,1.0,4.0])                                |\n",
      "+-----+--------------------------------------------------------------+-------------------------------------------------------------------------------------------------+\n",
      "only showing top 2 rows\n",
      "\n"
     ]
    },
    {
     "name": "stderr",
     "output_type": "stream",
     "text": [
      "                                                                                \r"
     ]
    }
   ],
   "source": [
    "tokenizedTest = tokenizer.transform(testingData)\n",
    "SwRemovedTest = swr.transform(tokenizedTest)\n",
    "numericTest = hashTF.transform(SwRemovedTest).select(\n",
    "    'Label', 'MeaningfulWords', 'features')\n",
    "numericTest.show(truncate=False, n=2)\n"
   ]
  },
  {
   "cell_type": "markdown",
   "metadata": {},
   "source": [
    "## Predict testing data and calculate the accuracy model"
   ]
  },
  {
   "cell_type": "code",
   "execution_count": 25,
   "metadata": {
    "scrolled": true
   },
   "outputs": [
    {
     "name": "stdout",
     "output_type": "stream",
     "text": [
      "23/01/18 13:43:30 WARN DAGScheduler: Broadcasting large task binary with size 4.1 MiB\n"
     ]
    },
    {
     "name": "stderr",
     "output_type": "stream",
     "text": [
      "                                                                                \r"
     ]
    },
    {
     "name": "stdout",
     "output_type": "stream",
     "text": [
      "+-----------------------------------------------------------------------------------------------------------------+----------+-----+\n",
      "|MeaningfulWords                                                                                                  |prediction|Label|\n",
      "+-----------------------------------------------------------------------------------------------------------------+----------+-----+\n",
      "|[!!, @jordaniscreativ, ...nice, seeing, out!, bad, get, chat!]                                                   |1.0       |0    |\n",
      "|[!!, de, creer, , , , , http://bit.ly/ln2da]                                                                     |1.0       |0    |\n",
      "|[!!!, , awwee, damnnn., sorry, joshyy,, wish, could,, work, like, day..., lunch, supper, shift., @joshalexanderr]|0.0       |0    |\n",
      "|[!!!, , left, teddy, bear, kim, &amp;, scott's.]                                                                 |1.0       |0    |\n",
      "+-----------------------------------------------------------------------------------------------------------------+----------+-----+\n",
      "only showing top 4 rows\n",
      "\n",
      "23/01/18 13:43:31 WARN DAGScheduler: Broadcasting large task binary with size 4.1 MiB\n"
     ]
    },
    {
     "name": "stderr",
     "output_type": "stream",
     "text": [
      "[Stage 50:=====================>                                    (3 + 5) / 8]\r"
     ]
    },
    {
     "name": "stdout",
     "output_type": "stream",
     "text": [
      "correct prediction: 184913 , total data: 479945 , accuracy: 0.3852795632832929\n"
     ]
    },
    {
     "name": "stderr",
     "output_type": "stream",
     "text": [
      "                                                                                \r"
     ]
    }
   ],
   "source": [
    "prediction = model.transform(numericTest)\n",
    "predictionFinal = prediction.select(\n",
    "    \"MeaningfulWords\", \"prediction\", \"Label\")\n",
    "predictionFinal.show(n=4, truncate = False)\n",
    "correctPrediction = predictionFinal.filter(\n",
    "    predictionFinal['prediction'] == predictionFinal['Label']).count()\n",
    "totalData = predictionFinal.count()\n",
    "print(\"correct prediction:\", correctPrediction, \", total data:\", totalData, \n",
    "      \", accuracy:\", correctPrediction/totalData)"
   ]
  },
  {
   "cell_type": "code",
   "execution_count": null,
   "metadata": {},
   "outputs": [],
   "source": []
  }
 ],
 "metadata": {
  "kernelspec": {
   "display_name": "Python 3.10.6 64-bit",
   "language": "python",
   "name": "python3"
  },
  "language_info": {
   "codemirror_mode": {
    "name": "ipython",
    "version": 3
   },
   "file_extension": ".py",
   "mimetype": "text/x-python",
   "name": "python",
   "nbconvert_exporter": "python",
   "pygments_lexer": "ipython3",
   "version": "3.10.6"
  },
  "vscode": {
   "interpreter": {
    "hash": "916dbcbb3f70747c44a77c7bcd40155683ae19c65e1c03b4aa3499c5328201f1"
   }
  }
 },
 "nbformat": 4,
 "nbformat_minor": 2
}
