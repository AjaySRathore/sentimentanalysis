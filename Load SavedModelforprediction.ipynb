{
 "cells": [
  {
   "cell_type": "code",
   "execution_count": null,
   "metadata": {},
   "outputs": [],
   "source": [
    "#import modules\n",
    "from pyspark import SparkConf, SparkContext\n",
    "from pyspark.sql import SparkSession\n",
    "from pyspark.sql.types import *\n",
    "from pyspark.sql.functions import *\n",
    "from pyspark.ml.classification import LogisticRegression, LogisticRegressionModel\n",
    "from pyspark.ml.feature import HashingTF, Tokenizer, StopWordsRemover\n",
    "\n",
    "#create Spark session\n",
    "appName = \"Sentiment Analysis in Spark\"\n",
    "conf = (SparkConf().setAppName(\"appName\"))\n",
    "\n",
    "sc = SparkContext.getOrCreate()\n",
    "spark = SparkSession \\\n",
    "    .builder \\\n",
    "    .appName(appName) \\\n",
    "    .config(\"spark.sql.streaming.schemaInference\", \"true\") \\\n",
    "    .config(\"appName\", \"TweetStream\") \\\n",
    "    .getOrCreate() "
   ]
  },
  {
   "cell_type": "code",
   "execution_count": null,
   "metadata": {},
   "outputs": [],
   "source": [
    "basePath = \"/home/mecha/Documents/ml_models/sentiment_analyzer\"\n",
    "model = LogisticRegressionModel.load(basePath + \"/modeliter10\")"
   ]
  },
  {
   "cell_type": "code",
   "execution_count": null,
   "metadata": {},
   "outputs": [],
   "source": [
    "columns = [\"text\", \"label\"]\n",
    "# data = [(\"I am happy with Java\", 4), (\"Unhappy with Python\", 0), (\"Scala sucks as a technology\", 0)]\n",
    "predictionData = spark \\\n",
    "    .readStream \\\n",
    "    .option(\"inferSchema\", \"true\") \\\n",
    "    .option(\"header\", \"true\") \\\n",
    "    .csv(\"tweetstream/*.csv\",header=True) \n",
    "# rdd = spark.sparkContext.parallelize(data)\n",
    "# predictionData = rdd.toDF(columns)\n",
    "# predictionData.show()\n",
    "\n",
    "\n",
    "tokenizer = Tokenizer(inputCol=\"text\", outputCol=\"SentimentWords\")\n",
    "tokenizedTest = tokenizer.transform(predictionData)\n",
    "swr = StopWordsRemover(inputCol=tokenizer.getOutputCol(), \n",
    "                       outputCol=\"MeaningfulWords\")\n",
    "SwRemovedTest = swr.transform(tokenizedTest)\n",
    "hashTF = HashingTF(inputCol=swr.getOutputCol(), outputCol=\"features\")\n",
    "numericTest = hashTF.transform(SwRemovedTest).select('text', 'MeaningfulWords', 'features')\n",
    "\n"
   ]
  },
  {
   "cell_type": "code",
   "execution_count": null,
   "metadata": {},
   "outputs": [],
   "source": [
    "prediction = model.transform(numericTest)\n",
    "prediction = prediction.select(\"text\", \"prediction\")\n",
    "tweetStream = prediction.writeStream \\\n",
    "  .format(\"csv\") \\\n",
    "  .trigger(processingTime=\"10 seconds\") \\\n",
    "  .option(\"checkpointLocation\", \"checkpoint/\") \\\n",
    "  .option(\"path\", \"predictions_out/\") \\\n",
    "  .outputMode(\"append\") \\\n",
    "  .start() \\\n",
    "  .awaitTermination()"
   ]
  }
 ],
 "metadata": {
  "kernelspec": {
   "display_name": "Python 3.10.6 64-bit",
   "language": "python",
   "name": "python3"
  },
  "language_info": {
   "codemirror_mode": {
    "name": "ipython",
    "version": 3
   },
   "file_extension": ".py",
   "mimetype": "text/x-python",
   "name": "python",
   "nbconvert_exporter": "python",
   "pygments_lexer": "ipython3",
   "version": "3.10.6"
  },
  "orig_nbformat": 4,
  "vscode": {
   "interpreter": {
    "hash": "916dbcbb3f70747c44a77c7bcd40155683ae19c65e1c03b4aa3499c5328201f1"
   }
  }
 },
 "nbformat": 4,
 "nbformat_minor": 2
}
